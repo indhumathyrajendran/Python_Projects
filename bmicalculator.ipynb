{
 "cells": [
  {
   "cell_type": "code",
   "execution_count": 1,
   "id": "e2c0be43-051e-48df-a539-964e06c8088d",
   "metadata": {},
   "outputs": [
    {
     "name": "stdout",
     "output_type": "stream",
     "text": [
      "Hello World\n"
     ]
    }
   ],
   "source": [
    "print(\"Hello World\")"
   ]
  },
  {
   "cell_type": "code",
   "execution_count": 41,
   "id": "e7398426-f738-4c67-8948-4177ea6b709d",
   "metadata": {},
   "outputs": [
    {
     "name": "stdin",
     "output_type": "stream",
     "text": [
      "Enter your name Indhu\n",
      " Enter your weight in kgs 65\n",
      " Enter your height in cms 153\n"
     ]
    },
    {
     "name": "stdout",
     "output_type": "stream",
     "text": [
      "27.76709812465291\n",
      "Indhu, you are overweight. You need to exercise more and stop sitting.\n"
     ]
    }
   ],
   "source": [
    "name = input(\"Enter your name\")\n",
    "weight = int(input(\" Enter your weight in kgs\"))\n",
    "height = int(input(\" Enter your height in cms\"))\n",
    "bmi = (weight) / (height/100 * height/100)\n",
    "print(bmi)               \n",
    "if bmi>0:\n",
    "    if(bmi<18.5):\n",
    "        print(name +\", you are underwight.\")\n",
    "    elif (bmi<=24.9):\n",
    "        print(name +\", you are normal weight.\")\n",
    "    elif (bmi<=29.9):\n",
    "        print(name +\", you are overweight. You need to exercise more and stop sitting.\")\n",
    "    elif (bmi<=34.9):\n",
    "        print(name +\", you are obese.\")\n",
    "    elif (bmi<=39.9):\n",
    "        print(name +\", you are severely obese.\")\n",
    "    else:\n",
    "        print(name +\", you are morbidly obese.\")\n",
    "else:\n",
    "    print(\"Enter valid input\")\n",
    "      "
   ]
  },
  {
   "cell_type": "code",
   "execution_count": null,
   "id": "36c7abae-bfd3-4381-832a-d10f6cd76576",
   "metadata": {},
   "outputs": [],
   "source": []
  },
  {
   "cell_type": "code",
   "execution_count": null,
   "id": "e94dd942-dc46-43a8-806d-b6ffef4d2337",
   "metadata": {},
   "outputs": [],
   "source": [
    "#BMI = (weight in pounds x 703) / (height in inches x height in inches)"
   ]
  },
  {
   "cell_type": "code",
   "execution_count": null,
   "id": "fc98e8af-2500-4f87-ab74-0dd6e445d3f9",
   "metadata": {},
   "outputs": [],
   "source": [
    "#i have converted the formula into kilograms and centimerters"
   ]
  },
  {
   "cell_type": "code",
   "execution_count": null,
   "id": "4e057912-3959-4f9a-a250-d9303d41dac1",
   "metadata": {},
   "outputs": [],
   "source": []
  },
  {
   "cell_type": "code",
   "execution_count": null,
   "id": "cff1a690-ea90-41a0-9075-ff440d5196e8",
   "metadata": {},
   "outputs": [],
   "source": []
  }
 ],
 "metadata": {
  "kernelspec": {
   "display_name": "Python 3 (ipykernel)",
   "language": "python",
   "name": "python3"
  },
  "language_info": {
   "codemirror_mode": {
    "name": "ipython",
    "version": 3
   },
   "file_extension": ".py",
   "mimetype": "text/x-python",
   "name": "python",
   "nbconvert_exporter": "python",
   "pygments_lexer": "ipython3",
   "version": "3.12.7"
  }
 },
 "nbformat": 4,
 "nbformat_minor": 5
}
