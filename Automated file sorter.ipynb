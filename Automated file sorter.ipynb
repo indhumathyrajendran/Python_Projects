{
 "cells": [
  {
   "cell_type": "code",
   "execution_count": 1,
   "id": "f26e67b9-9e36-46e4-8cbb-3be6edd06fae",
   "metadata": {},
   "outputs": [],
   "source": [
    "import os,shutil"
   ]
  },
  {
   "cell_type": "code",
   "execution_count": 46,
   "id": "ffe1b4c8-285c-403a-87f1-d1d301f1338a",
   "metadata": {},
   "outputs": [],
   "source": [
    "path = \"D:\\\\\""
   ]
  },
  {
   "cell_type": "code",
   "execution_count": 50,
   "id": "cbc01a5d-6514-4fbe-85d2-cb6dcf04cd96",
   "metadata": {},
   "outputs": [
    {
     "name": "stdout",
     "output_type": "stream",
     "text": [
      "['$RECYCLE.BIN', '2020 iph pics', '2020 iph pics 2', '2020 iph pics 3', '2020 iph pics 4', 'Anaconda', 'Anaconda3-2024.10-1-Windows-x86_64.exe', 'ASK', 'Cover letter.docx', 'Cover letter.pdf', 'DumpStack.log.tmp', 'EN', 'House_hold_items_price.xlsx', 'iph 12 pics', 'iph 12 pics 2', 'latest House_hold_items_price.xlsx', 'lghub_installer.exe', 'Pics', 'Siva Kumar SAP Basis Admin.docx', 'Siva Kumar SAP Basis Admin.pdf', 'System Volume Information', 'temp+download', 'USA KANAKKU NOTE-INDHU.xlsx', 'Users', '~$latest House_hold_items_price.xlsx', '~$USA KANAKKU NOTE-INDHU.xlsx']\n"
     ]
    }
   ],
   "source": [
    "file_name = os.listdir(path)\n",
    "print(file_name)"
   ]
  },
  {
   "cell_type": "code",
   "execution_count": null,
   "id": "37c05760-ae32-428d-91f2-6d65e1942e6f",
   "metadata": {},
   "outputs": [],
   "source": [
    "xlsx\n",
    "pdf\n",
    "exe\n",
    "docx"
   ]
  },
  {
   "cell_type": "code",
   "execution_count": 54,
   "id": "a075d6b1-f9a9-4475-81fe-f9be071b94c2",
   "metadata": {},
   "outputs": [],
   "source": [
    "folder_name = ['xlsx files','exe files','docx files','pdf files']"
   ]
  },
  {
   "cell_type": "code",
   "execution_count": 66,
   "id": "380634b7-2225-43b5-ad2a-e824bdcd28b3",
   "metadata": {},
   "outputs": [],
   "source": [
    "for loop in range(0,4):\n",
    "    if not os.path.exists(path+folder_name[loop]):\n",
    "        os.makedirs(path+folder_name[loop])\n",
    "\n"
   ]
  },
  {
   "cell_type": "code",
   "execution_count": 76,
   "id": "f6440033-03c8-4678-8a30-747347df7a9d",
   "metadata": {},
   "outputs": [],
   "source": [
    " for file in file_name:\n",
    "    if '.xlsx' in file and not os.path.exists(path+ \"xlsx files/\" +file):\n",
    "     shutil.move(path+file, path+ \"xlsx files/\" +file)\n",
    "    if '.exe' in file and not os.path.exists(path+ \"exe files/\" +file):\n",
    "     shutil.move(path+file, path+ \"exe files/\" +file)\n",
    "    if '.docx' in file and not os.path.exists(path+ \"docx files/\" +file):\n",
    "     shutil.move(path+file, path+ \"docx files/\" +file)\n",
    "    if '.pdf' in file and not os.path.exists(path+ \"pdf files/\" +file):\n",
    "        shutil.move(path+file, path+ \"pdf files/\" +file)"
   ]
  },
  {
   "cell_type": "code",
   "execution_count": null,
   "id": "44329649-3d6b-4b66-82ac-0f48101d7484",
   "metadata": {},
   "outputs": [],
   "source": []
  },
  {
   "cell_type": "code",
   "execution_count": null,
   "id": "a1fb5a8f-e64e-4b68-9684-f57c74e4bf64",
   "metadata": {},
   "outputs": [],
   "source": []
  },
  {
   "cell_type": "code",
   "execution_count": null,
   "id": "f9c9f8bf-e634-495d-8e52-c4cdf23515c9",
   "metadata": {},
   "outputs": [],
   "source": []
  },
  {
   "cell_type": "code",
   "execution_count": null,
   "id": "60089010-65cf-41a0-a351-f8b2faf3b9b7",
   "metadata": {},
   "outputs": [],
   "source": []
  }
 ],
 "metadata": {
  "kernelspec": {
   "display_name": "Python 3 (ipykernel)",
   "language": "python",
   "name": "python3"
  },
  "language_info": {
   "codemirror_mode": {
    "name": "ipython",
    "version": 3
   },
   "file_extension": ".py",
   "mimetype": "text/x-python",
   "name": "python",
   "nbconvert_exporter": "python",
   "pygments_lexer": "ipython3",
   "version": "3.12.7"
  }
 },
 "nbformat": 4,
 "nbformat_minor": 5
}
